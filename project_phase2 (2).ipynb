{
 "cells": [
  {
   "cell_type": "markdown",
   "id": "219cc1dc",
   "metadata": {},
   "source": [
    "## Import important Libraries"
   ]
  },
  {
   "cell_type": "code",
   "execution_count": 1,
   "id": "f123b860",
   "metadata": {},
   "outputs": [],
   "source": [
    "import numpy as np\n",
    "import time\n",
    "import cv2 as cv\n",
    "import os\n",
    "import glob\n",
    "import matplotlib.pyplot as plt"
   ]
  },
  {
   "cell_type": "markdown",
   "id": "6912ab15",
   "metadata": {},
   "source": [
    "## YOLO Weights and Config"
   ]
  },
  {
   "cell_type": "code",
   "execution_count": 2,
   "id": "5e3d4488",
   "metadata": {},
   "outputs": [
    {
     "name": "stdout",
     "output_type": "stream",
     "text": [
      "Loaded Yolo weights and config\n"
     ]
    }
   ],
   "source": [
    "weights_path = os.path.join(\"yolo\", \"yolov3.weights\")\n",
    "config_path = os.path.join(\"yolo\", \"yolov3.cfg\")\n",
    "\n",
    "print (\"Loaded Yolo weights and config\")"
   ]
  },
  {
   "cell_type": "markdown",
   "id": "66013cc5",
   "metadata": {},
   "source": [
    "## Load Neural Network in OpenCV"
   ]
  },
  {
   "cell_type": "code",
   "execution_count": 3,
   "id": "86efd086",
   "metadata": {},
   "outputs": [],
   "source": [
    "net = cv.dnn.readNetFromDarknet(config_path, weights_path)"
   ]
  },
  {
   "cell_type": "code",
   "execution_count": 4,
   "id": "380df0d9",
   "metadata": {},
   "outputs": [],
   "source": [
    "names = net.getLayerNames()"
   ]
  },
  {
   "cell_type": "code",
   "execution_count": 5,
   "id": "a6e38eb2",
   "metadata": {},
   "outputs": [],
   "source": [
    "def pass_yolov3(img,layers):\n",
    "    blob = cv.dnn.blobFromImage(img, 1/255.0, (416,416), crop=False, swapRB= False)\n",
    "\n",
    "    net.setInput(blob)\n",
    "    start_t = time.time()\n",
    "\n",
    "    layers_output = net.forward(layers)\n",
    "    #print(\"A forward pass through yolov3 took {}\".format(time.time()-start_t))\n",
    "    return layers_output"
   ]
  },
  {
   "cell_type": "code",
   "execution_count": 6,
   "id": "8771c9ab",
   "metadata": {},
   "outputs": [],
   "source": [
    "def get_objectplace(layers_output,W,H):\n",
    "    boxes = []\n",
    "    confidences =[]\n",
    "    classIDs = []\n",
    "    for output in layers_output:\n",
    "        for detection in output:\n",
    "            scores = detection[5:]\n",
    "            classID = np.argmax(scores)\n",
    "            confidence = scores[classID]\n",
    "\n",
    "            if confidence > 0.80:\n",
    "                box = detection[:4] * np.array([W, H, W, H])\n",
    "                bx, by, bw, bh = box.astype(\"int\")\n",
    "\n",
    "                x = int(bx-(bw/2))\n",
    "                y = int(by - (bh/2))\n",
    "\n",
    "                boxes.append([x,y,int(bw), int(bh)])\n",
    "                confidences.append(float(confidence))\n",
    "                classIDs.append(classID) \n",
    "    return boxes , confidences,classIDs"
   ]
  },
  {
   "cell_type": "code",
   "execution_count": 7,
   "id": "6b4205e1",
   "metadata": {},
   "outputs": [],
   "source": [
    "def draw_boxes(img,boxes,confidences,classIDs):\n",
    "    idxs = cv.dnn.NMSBoxes(boxes, confidences, 0.8, 0.6)\n",
    "    labels_path = os.path.join(\"yolo\",\"coco.names\")\n",
    "    labels = open(labels_path).read().strip().split(\"\\n\")\n",
    "\n",
    "    for i in idxs.flatten():\n",
    "        (x,y) = [boxes[i][0], boxes[i][1]]\n",
    "        (w,h) = [boxes[i][2], boxes[i][3]]\n",
    "        cv.rectangle(img, (x,y), (x+w, y+h), (0,255,255), 2)\n",
    "        cv.putText(img,\"{}: {}\".format(labels[classIDs[i]], round(confidences[i],3)), (x,y-5), cv.FONT_HERSHEY_SIMPLEX, 0.5, (0,139,139),2)\n",
    "    return img    "
   ]
  },
  {
   "cell_type": "code",
   "execution_count": 8,
   "id": "c315dbf9",
   "metadata": {},
   "outputs": [],
   "source": [
    "# Reading an image\n",
    "images_paths = glob.glob(\"images/*.jpg\")\n",
    "images = [cv.imread(image) for image in images_paths]\n",
    "\n",
    "# getting img dimensions and printing it\n",
    "image_idx = 0\n",
    "\n",
    "for test_img in images:\n",
    "    img = cv.cvtColor(test_img, cv.COLOR_BGR2RGB)\n",
    "    (H, W) = img.shape[:2]\n",
    "    layers_names = [names[i[0]-1] for i in net.getUnconnectedOutLayers()]\n",
    "    layers_output= pass_yolov3(img, layers_names)\n",
    "    boxes , confidences,classIDs= get_objectplace(layers_output,W,H)\n",
    "    if len(boxes)>0:\n",
    "        detected_obj_img=draw_boxes(img,boxes,confidences,classIDs)\n",
    "    else:\n",
    "        detected_obj_img=img\n",
    "    detected_obj_img = cv.cvtColor(detected_obj_img, cv.COLOR_BGR2RGB)\n",
    "    cv.imwrite('output/test_cars_detection{}.jpg'.format(str(image_idx)), detected_obj_img)\n",
    "    image_idx = image_idx + 1"
   ]
  },
  {
   "cell_type": "code",
   "execution_count": 10,
   "id": "bab13cbd",
   "metadata": {},
   "outputs": [],
   "source": [
    "video_name='project_video.mp4'\n",
    "cap = cv.VideoCapture(video_name)\n",
    "# Check if camera opened successfully\n",
    "if (cap.isOpened()== False): \n",
    "  print(\"Error opening video stream or file\")\n",
    "\n",
    "out = cv.VideoCapture(0)\n",
    "fps = int(cap.get(cv.CAP_PROP_FPS))\n",
    "fourcc = cv.VideoWriter_fourcc(*'mp4v')\n",
    "out = cv.VideoWriter('output/car_detection_{}'.format(video_name),fourcc, fps, ( 1280, 720 ))\n",
    "\n",
    "while(cap.isOpened()):\n",
    "  # Capture frame-by-frame\n",
    "  ret, frame = cap.read()\n",
    "  if ret == True:\n",
    "    # Display the resulting frame\n",
    "    frame = cv.resize(frame, ( 1280, 720 ))\n",
    "    frame = cv.cvtColor(frame, cv.COLOR_BGR2RGB)\n",
    "    (H, W) = frame.shape[:2]\n",
    "    layers_names = [names[i[0]-1] for i in net.getUnconnectedOutLayers()]\n",
    "    layers_output= pass_yolov3(frame,layers_names)\n",
    "    boxes , confidences,classIDs= get_objectplace(layers_output,W,H)\n",
    "    if len(boxes)>0:\n",
    "        detected_obj_img=draw_boxes(frame,boxes,confidences,classIDs)\n",
    "    else:\n",
    "        detected_obj_img=frame\n",
    "    detected_obj_img = cv.cvtColor(detected_obj_img, cv.COLOR_BGR2RGB)\n",
    "    \n",
    "    out.write(detected_obj_img)\n",
    "    cv.imshow('Frame',detected_obj_img)\n",
    "    # Press Q on keyboard to  exit\n",
    "    if cv.waitKey(25) & 0xFF == ord('q'):\n",
    "      break\n",
    "\n",
    "  else: \n",
    "    break\n",
    "\n",
    "# When everything done, release the video capture object\n",
    "cap.release()\n",
    "out.release()\n",
    "\n",
    "# Closes all the frames\n",
    "cv.destroyAllWindows()"
   ]
  }
 ],
 "metadata": {
  "kernelspec": {
   "display_name": "Python 3 (ipykernel)",
   "language": "python",
   "name": "python3"
  },
  "language_info": {
   "codemirror_mode": {
    "name": "ipython",
    "version": 3
   },
   "file_extension": ".py",
   "mimetype": "text/x-python",
   "name": "python",
   "nbconvert_exporter": "python",
   "pygments_lexer": "ipython3",
   "version": "3.8.12"
  }
 },
 "nbformat": 4,
 "nbformat_minor": 5
}
