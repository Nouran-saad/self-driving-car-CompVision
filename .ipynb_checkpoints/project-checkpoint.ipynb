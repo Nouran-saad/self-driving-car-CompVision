{
 "cells": [
  {
   "cell_type": "code",
   "execution_count": 3,
   "id": "dec99dc5",
   "metadata": {},
   "outputs": [],
   "source": [
    "import cv2 as cv\n",
    "import numpy as np\n",
    "import matplotlib.pyplot as plt"
   ]
  },
  {
   "cell_type": "code",
   "execution_count": 4,
   "id": "a85662ee",
   "metadata": {},
   "outputs": [],
   "source": [
    "def canny(img):\n",
    "\n",
    "    canny = cv.Canny(img, 50, 150)\n",
    "    return canny"
   ]
  },
  {
   "cell_type": "code",
   "execution_count": 5,
   "id": "4075a000",
   "metadata": {},
   "outputs": [],
   "source": [
    "def region_of_interest(img):\n",
    "    height = img.shape[0]\n",
    "    poly = np.array([[(200,height), (1200, height), (790,450), (580, 450)]])\n",
    "    mask = np.zeros_like(img)\n",
    "    cv.fillPoly(mask, poly, 255)\n",
    "    return mask"
   ]
  },
  {
   "cell_type": "code",
   "execution_count": 6,
   "id": "d75b131b",
   "metadata": {},
   "outputs": [],
   "source": [
    "def display_lines(img, lines):\n",
    "    line_image = np.zeros_like(img)\n",
    "    if lines is not None:\n",
    "        for line in lines:\n",
    "            x1, y1, x2, y2 = line.reshape(4)\n",
    "            cv.line(line_image, (x1,y1), (x2,y2), (0,255,0), 10)\n",
    "    return line_image"
   ]
  },
  {
   "cell_type": "code",
   "execution_count": 12,
   "id": "a44a175c",
   "metadata": {},
   "outputs": [],
   "source": [
    "cap = cv.VideoCapture('project_video.mp4')\n",
    "# Check if camera opened successfully\n",
    "if (cap.isOpened()== False): \n",
    "  print(\"Error opening video stream or file\")\n",
    "\n",
    "while(cap.isOpened()):\n",
    "  # Capture frame-by-frame\n",
    "  ret, frame = cap.read()\n",
    "  if ret == True:\n",
    "    # Display the resulting frame\n",
    "    hls = cv.cvtColor(frame, cv.COLOR_BGR2HLS)    \n",
    "    low_yellow = np.uint8([ 10,   0, 100])\n",
    "    up_yellow = np.uint8([ 40, 255, 255])\n",
    "    mask = cv.inRange(hls, low_yellow, up_yellow)\n",
    "\n",
    "    gray = cv.cvtColor(frame, cv.COLOR_RGB2GRAY)\n",
    "    blur = cv.GaussianBlur(gray, (3,3), 0)\n",
    "    interestt = blur & region_of_interest(blur)\n",
    "    \n",
    "    ret, thresh = cv.threshold(interestt, 210, 240, cv.THRESH_BINARY)\n",
    "    \n",
    "    new = mask | thresh\n",
    "    \n",
    "    interestt = new & region_of_interest(new)\n",
    "     \n",
    "    \n",
    "    new_canny = cv.Canny(interestt, 50, 150)\n",
    "    lines = cv.HoughLinesP(new_canny, 2, np.pi/180, 100, np.array([]), minLineLength=10, maxLineGap=200)\n",
    "    line_img = display_lines(frame, lines)\n",
    "    combo_image = cv.addWeighted(frame, 0.8, line_img, 1, 1)\n",
    "    cv.imshow('Frame',combo_image)\n",
    "\n",
    "        \n",
    "    # Press Q on keyboard to  exit\n",
    "    if cv.waitKey(25) & 0xFF == ord('q'):\n",
    "      break\n",
    "\n",
    "  else: \n",
    "    break\n",
    "\n",
    "# When everything done, release the video capture object\n",
    "cap.release()\n",
    "\n",
    "# Closes all the frames\n",
    "cv.destroyAllWindows()"
   ]
  },
  {
   "cell_type": "code",
   "execution_count": null,
   "id": "9b53f937",
   "metadata": {},
   "outputs": [],
   "source": []
  }
 ],
 "metadata": {
  "kernelspec": {
   "display_name": "Python 3 (ipykernel)",
   "language": "python",
   "name": "python3"
  },
  "language_info": {
   "codemirror_mode": {
    "name": "ipython",
    "version": 3
   },
   "file_extension": ".py",
   "mimetype": "text/x-python",
   "name": "python",
   "nbconvert_exporter": "python",
   "pygments_lexer": "ipython3",
   "version": "3.8.11"
  }
 },
 "nbformat": 4,
 "nbformat_minor": 5
}
